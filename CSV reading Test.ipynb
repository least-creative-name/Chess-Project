{
 "cells": [
  {
   "cell_type": "code",
   "execution_count": 2,
   "metadata": {
    "collapsed": true
   },
   "outputs": [],
   "source": [
    "import csv\n",
    "score_data = open(\"stockfish.csv\", \"r\")\n",
    "data_reader = csv.reader(score_data)\n",
    "game_number = []\n",
    "move_score = []\n",
    "move_score_int = []"
   ]
  },
  {
   "cell_type": "code",
   "execution_count": 3,
   "metadata": {
    "collapsed": true
   },
   "outputs": [],
   "source": [
    "def stringToInt(text):\n",
    "    size = len(text)\n",
    "    current = 0\n",
    "    neg = False\n",
    "    for i in range(size):\n",
    "        if text[i]=='-':\n",
    "            neg = True\n",
    "        elif text[i]==' ':\n",
    "            if not neg:\n",
    "                move_score_int.append(current)\n",
    "            elif neg:\n",
    "                current = current*-1\n",
    "                move_score_int.append(current)\n",
    "            current=0\n",
    "            neg = False\n",
    "        else:\n",
    "            current = current* 10\n",
    "            current += (ord(text[i])-ord('0'))\n",
    "    if not neg:\n",
    "        move_score_int.append(current)\n",
    "    elif neg:\n",
    "        current = current*-1\n",
    "        move_score_int.append(current)"
   ]
  },
  {
   "cell_type": "code",
   "execution_count": 4,
   "metadata": {},
   "outputs": [
    {
     "name": "stdout",
     "output_type": "stream",
     "text": [
      "2\n"
     ]
    }
   ],
   "source": [
    "for line in data_reader:\n",
    "    event = line[0]\n",
    "    score = line[1]\n",
    "    game_number.append(event)\n",
    "    move_score.append(score)\n",
    "    stringToInt(score)\n",
    "    print(len(line))\n",
    "    break"
   ]
  },
  {
   "cell_type": "code",
   "execution_count": 4,
   "metadata": {},
   "outputs": [
    {
     "name": "stdout",
     "output_type": "stream",
     "text": [
      "18\n",
      "17\n",
      "12\n",
      "8\n",
      "-5\n",
      "12\n",
      "3\n",
      "-2\n",
      "22\n",
      "21\n",
      "20\n",
      "13\n",
      "8\n",
      "21\n",
      "11\n",
      "3\n",
      "-6\n",
      "5\n",
      "1\n",
      "-10\n",
      "-21\n",
      "-1\n",
      "-26\n",
      "18\n",
      "48\n",
      "48\n",
      "53\n",
      "73\n",
      "46\n",
      "68\n",
      "51\n",
      "60\n",
      "54\n",
      "46\n",
      "70\n",
      "62\n",
      "35\n",
      "54\n",
      "26\n",
      "44\n",
      "26\n",
      "18\n",
      "14\n",
      "34\n",
      "36\n",
      "31\n",
      "37\n",
      "35\n",
      "42\n",
      "52\n",
      "55\n",
      "26\n",
      "51\n",
      "68\n",
      "57\n",
      "65\n",
      "77\n",
      "48\n",
      "93\n",
      "61\n",
      "63\n",
      "63\n",
      "58\n",
      "53\n",
      "46\n",
      "69\n",
      "29\n",
      "30\n",
      "27\n",
      "-2\n",
      "12\n",
      "-11\n",
      "0\n",
      "-17\n",
      "24\n",
      "5\n",
      "15\n",
      "16\n",
      "31\n",
      "44\n",
      "25\n",
      "18\n",
      "20\n",
      "27\n",
      "26\n",
      "18\n",
      "14\n",
      "18\n",
      "20\n",
      "10\n",
      "2\n",
      "7\n",
      "22\n",
      "-28\n",
      "-26\n",
      "-30\n",
      "-34\n",
      "-29\n",
      "-28\n"
     ]
    }
   ],
   "source": [
    "for i in range(1,100):\n",
    "    print(move_score_int[i])"
   ]
  },
  {
   "cell_type": "code",
   "execution_count": null,
   "metadata": {
    "collapsed": true
   },
   "outputs": [],
   "source": []
  }
 ],
 "metadata": {
  "kernelspec": {
   "display_name": "Python 3",
   "language": "python",
   "name": "python3"
  },
  "language_info": {
   "codemirror_mode": {
    "name": "ipython",
    "version": 3
   },
   "file_extension": ".py",
   "mimetype": "text/x-python",
   "name": "python",
   "nbconvert_exporter": "python",
   "pygments_lexer": "ipython3",
   "version": "3.6.3"
  }
 },
 "nbformat": 4,
 "nbformat_minor": 2
}
