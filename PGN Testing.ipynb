{
 "cells": [
  {
   "cell_type": "code",
   "execution_count": 1,
   "metadata": {
    "collapsed": true
   },
   "outputs": [],
   "source": [
    "import chess\n",
    "import chess.pgn\n",
    "board = chess.Board()\n",
    "move_data = open(\"data.pgn\", \"r\")\n",
    "game_moves = chess.pgn.read_game(move_data);"
   ]
  },
  {
   "cell_type": "code",
   "execution_count": 2,
   "metadata": {},
   "outputs": [
    {
     "name": "stdout",
     "output_type": "stream",
     "text": [
      "White elo is\n",
      "2354\n",
      "Black elo is\n",
      "2411\n"
     ]
    }
   ],
   "source": [
    "print(\"White elo is\")\n",
    "print(game_moves.headers[\"WhiteElo\"])\n",
    "print(\"Black elo is\")\n",
    "print(game_moves.headers[\"BlackElo\"])"
   ]
  },
  {
   "cell_type": "code",
   "execution_count": 3,
   "metadata": {
    "collapsed": true
   },
   "outputs": [],
   "source": [
    "moves = game_moves.main_line()"
   ]
  },
  {
   "cell_type": "code",
   "execution_count": 4,
   "metadata": {},
   "outputs": [
    {
     "data": {
      "text/plain": [
       "'1. Nf3 Nf6 2. c4 c5 3. b3 g6 4. Bb2 Bg7 5. e3 O-O 6. Be2 b6 7. O-O Bb7 8. Nc3 Nc6 9. Qc2 Rc8 10. Rac1 d5 11. Nxd5 Nxd5 12. Bxg7 Nf4 13. exf4 Kxg7 14. Qc3+ Kg8 15. Rcd1 Qd6 16. d4 cxd4 17. Nxd4 Qxf4 18. Bf3 Qf6 19. Nb5 Qxc3'"
      ]
     },
     "execution_count": 4,
     "metadata": {},
     "output_type": "execute_result"
    }
   ],
   "source": [
    "game_moves.board().variation_san(moves)"
   ]
  },
  {
   "cell_type": "code",
   "execution_count": 5,
   "metadata": {
    "collapsed": true
   },
   "outputs": [],
   "source": [
    "node = game_moves\n",
    "count = 0"
   ]
  },
  {
   "cell_type": "code",
   "execution_count": 6,
   "metadata": {
    "collapsed": true
   },
   "outputs": [
    {
     "name": "stdout",
     "output_type": "stream",
     "text": [
      "0\n",
      "r n b q k b n r\n",
      "p p p p p p p p\n",
      ". . . . . . . .\n",
      ". . . . . . . .\n",
      ". . . . . . . .\n",
      ". . . . . N . .\n",
      "P P P P P P P P\n",
      "R N B Q K B . R\n",
      "1\n",
      "r n b q k b . r\n",
      "p p p p p p p p\n",
      ". . . . . n . .\n",
      ". . . . . . . .\n",
      ". . . . . . . .\n",
      ". . . . . N . .\n",
      "P P P P P P P P\n",
      "R N B Q K B . R\n",
      "2\n",
      "r n b q k b . r\n",
      "p p p p p p p p\n",
      ". . . . . n . .\n",
      ". . . . . . . .\n",
      ". . P . . . . .\n",
      ". . . . . N . .\n",
      "P P . P P P P P\n",
      "R N B Q K B . R\n",
      "3\n",
      "r n b q k b . r\n",
      "p p . p p p p p\n",
      ". . . . . n . .\n",
      ". . p . . . . .\n",
      ". . P . . . . .\n",
      ". . . . . N . .\n",
      "P P . P P P P P\n",
      "R N B Q K B . R\n",
      "4\n",
      "r n b q k b . r\n",
      "p p . p p p p p\n",
      ". . . . . n . .\n",
      ". . p . . . . .\n",
      ". . P . . . . .\n",
      ". P . . . N . .\n",
      "P . . P P P P P\n",
      "R N B Q K B . R\n",
      "5\n",
      "r n b q k b . r\n",
      "p p . p p p . p\n",
      ". . . . . n p .\n",
      ". . p . . . . .\n",
      ". . P . . . . .\n",
      ". P . . . N . .\n",
      "P . . P P P P P\n",
      "R N B Q K B . R\n",
      "6\n",
      "r n b q k b . r\n",
      "p p . p p p . p\n",
      ". . . . . n p .\n",
      ". . p . . . . .\n",
      ". . P . . . . .\n",
      ". P . . . N . .\n",
      "P B . P P P P P\n",
      "R N . Q K B . R\n",
      "7\n",
      "r n b q k . . r\n",
      "p p . p p p b p\n",
      ". . . . . n p .\n",
      ". . p . . . . .\n",
      ". . P . . . . .\n",
      ". P . . . N . .\n",
      "P B . P P P P P\n",
      "R N . Q K B . R\n",
      "8\n",
      "r n b q k . . r\n",
      "p p . p p p b p\n",
      ". . . . . n p .\n",
      ". . p . . . . .\n",
      ". . P . . . . .\n",
      ". P . . P N . .\n",
      "P B . P . P P P\n",
      "R N . Q K B . R\n",
      "9\n",
      "r n b q . r k .\n",
      "p p . p p p b p\n",
      ". . . . . n p .\n",
      ". . p . . . . .\n",
      ". . P . . . . .\n",
      ". P . . P N . .\n",
      "P B . P . P P P\n",
      "R N . Q K B . R\n",
      "10\n",
      "r n b q . r k .\n",
      "p p . p p p b p\n",
      ". . . . . n p .\n",
      ". . p . . . . .\n",
      ". . P . . . . .\n",
      ". P . . P N . .\n",
      "P B . P B P P P\n",
      "R N . Q K . . R\n",
      "11\n",
      "r n b q . r k .\n",
      "p . . p p p b p\n",
      ". p . . . n p .\n",
      ". . p . . . . .\n",
      ". . P . . . . .\n",
      ". P . . P N . .\n",
      "P B . P B P P P\n",
      "R N . Q K . . R\n",
      "12\n",
      "r n b q . r k .\n",
      "p . . p p p b p\n",
      ". p . . . n p .\n",
      ". . p . . . . .\n",
      ". . P . . . . .\n",
      ". P . . P N . .\n",
      "P B . P B P P P\n",
      "R N . Q . R K .\n",
      "13\n",
      "r n . q . r k .\n",
      "p b . p p p b p\n",
      ". p . . . n p .\n",
      ". . p . . . . .\n",
      ". . P . . . . .\n",
      ". P . . P N . .\n",
      "P B . P B P P P\n",
      "R N . Q . R K .\n",
      "14\n",
      "r n . q . r k .\n",
      "p b . p p p b p\n",
      ". p . . . n p .\n",
      ". . p . . . . .\n",
      ". . P . . . . .\n",
      ". P N . P N . .\n",
      "P B . P B P P P\n",
      "R . . Q . R K .\n",
      "15\n",
      "r . . q . r k .\n",
      "p b . p p p b p\n",
      ". p n . . n p .\n",
      ". . p . . . . .\n",
      ". . P . . . . .\n",
      ". P N . P N . .\n",
      "P B . P B P P P\n",
      "R . . Q . R K .\n",
      "16\n",
      "r . . q . r k .\n",
      "p b . p p p b p\n",
      ". p n . . n p .\n",
      ". . p . . . . .\n",
      ". . P . . . . .\n",
      ". P N . P N . .\n",
      "P B Q P B P P P\n",
      "R . . . . R K .\n",
      "17\n",
      ". . r q . r k .\n",
      "p b . p p p b p\n",
      ". p n . . n p .\n",
      ". . p . . . . .\n",
      ". . P . . . . .\n",
      ". P N . P N . .\n",
      "P B Q P B P P P\n",
      "R . . . . R K .\n",
      "18\n",
      ". . r q . r k .\n",
      "p b . p p p b p\n",
      ". p n . . n p .\n",
      ". . p . . . . .\n",
      ". . P . . . . .\n",
      ". P N . P N . .\n",
      "P B Q P B P P P\n",
      ". . R . . R K .\n",
      "19\n",
      ". . r q . r k .\n",
      "p b . . p p b p\n",
      ". p n . . n p .\n",
      ". . p p . . . .\n",
      ". . P . . . . .\n",
      ". P N . P N . .\n",
      "P B Q P B P P P\n",
      ". . R . . R K .\n",
      "20\n",
      ". . r q . r k .\n",
      "p b . . p p b p\n",
      ". p n . . n p .\n",
      ". . p N . . . .\n",
      ". . P . . . . .\n",
      ". P . . P N . .\n",
      "P B Q P B P P P\n",
      ". . R . . R K .\n",
      "21\n",
      ". . r q . r k .\n",
      "p b . . p p b p\n",
      ". p n . . . p .\n",
      ". . p n . . . .\n",
      ". . P . . . . .\n",
      ". P . . P N . .\n",
      "P B Q P B P P P\n",
      ". . R . . R K .\n",
      "22\n",
      ". . r q . r k .\n",
      "p b . . p p B p\n",
      ". p n . . . p .\n",
      ". . p n . . . .\n",
      ". . P . . . . .\n",
      ". P . . P N . .\n",
      "P . Q P B P P P\n",
      ". . R . . R K .\n",
      "23\n",
      ". . r q . r k .\n",
      "p b . . p p B p\n",
      ". p n . . . p .\n",
      ". . p . . . . .\n",
      ". . P . . n . .\n",
      ". P . . P N . .\n",
      "P . Q P B P P P\n",
      ". . R . . R K .\n",
      "24\n",
      ". . r q . r k .\n",
      "p b . . p p B p\n",
      ". p n . . . p .\n",
      ". . p . . . . .\n",
      ". . P . . P . .\n",
      ". P . . . N . .\n",
      "P . Q P B P P P\n",
      ". . R . . R K .\n",
      "25\n",
      ". . r q . r . .\n",
      "p b . . p p k p\n",
      ". p n . . . p .\n",
      ". . p . . . . .\n",
      ". . P . . P . .\n",
      ". P . . . N . .\n",
      "P . Q P B P P P\n",
      ". . R . . R K .\n",
      "26\n",
      ". . r q . r . .\n",
      "p b . . p p k p\n",
      ". p n . . . p .\n",
      ". . p . . . . .\n",
      ". . P . . P . .\n",
      ". P Q . . N . .\n",
      "P . . P B P P P\n",
      ". . R . . R K .\n",
      "27\n",
      ". . r q . r k .\n",
      "p b . . p p . p\n",
      ". p n . . . p .\n",
      ". . p . . . . .\n",
      ". . P . . P . .\n",
      ". P Q . . N . .\n",
      "P . . P B P P P\n",
      ". . R . . R K .\n",
      "28\n",
      ". . r q . r k .\n",
      "p b . . p p . p\n",
      ". p n . . . p .\n",
      ". . p . . . . .\n",
      ". . P . . P . .\n",
      ". P Q . . N . .\n",
      "P . . P B P P P\n",
      ". . . R . R K .\n",
      "29\n",
      ". . r . . r k .\n",
      "p b . . p p . p\n",
      ". p n q . . p .\n",
      ". . p . . . . .\n",
      ". . P . . P . .\n",
      ". P Q . . N . .\n",
      "P . . P B P P P\n",
      ". . . R . R K .\n",
      "30\n",
      ". . r . . r k .\n",
      "p b . . p p . p\n",
      ". p n q . . p .\n",
      ". . p . . . . .\n",
      ". . P P . P . .\n",
      ". P Q . . N . .\n",
      "P . . . B P P P\n",
      ". . . R . R K .\n",
      "31\n",
      ". . r . . r k .\n",
      "p b . . p p . p\n",
      ". p n q . . p .\n",
      ". . . . . . . .\n",
      ". . P p . P . .\n",
      ". P Q . . N . .\n",
      "P . . . B P P P\n",
      ". . . R . R K .\n",
      "32\n",
      ". . r . . r k .\n",
      "p b . . p p . p\n",
      ". p n q . . p .\n",
      ". . . . . . . .\n",
      ". . P N . P . .\n",
      ". P Q . . . . .\n",
      "P . . . B P P P\n",
      ". . . R . R K .\n",
      "33\n",
      ". . r . . r k .\n",
      "p b . . p p . p\n",
      ". p n . . . p .\n",
      ". . . . . . . .\n",
      ". . P N . q . .\n",
      ". P Q . . . . .\n",
      "P . . . B P P P\n",
      ". . . R . R K .\n",
      "34\n",
      ". . r . . r k .\n",
      "p b . . p p . p\n",
      ". p n . . . p .\n",
      ". . . . . . . .\n",
      ". . P N . q . .\n",
      ". P Q . . B . .\n",
      "P . . . . P P P\n",
      ". . . R . R K .\n",
      "35\n",
      ". . r . . r k .\n",
      "p b . . p p . p\n",
      ". p n . . q p .\n",
      ". . . . . . . .\n",
      ". . P N . . . .\n",
      ". P Q . . B . .\n",
      "P . . . . P P P\n",
      ". . . R . R K .\n",
      "36\n",
      ". . r . . r k .\n",
      "p b . . p p . p\n",
      ". p n . . q p .\n",
      ". N . . . . . .\n",
      ". . P . . . . .\n",
      ". P Q . . B . .\n",
      "P . . . . P P P\n",
      ". . . R . R K .\n",
      "37\n",
      ". . r . . r k .\n",
      "p b . . p p . p\n",
      ". p n . . . p .\n",
      ". N . . . . . .\n",
      ". . P . . . . .\n",
      ". P q . . B . .\n",
      "P . . . . P P P\n",
      ". . . R . R K .\n"
     ]
    }
   ],
   "source": [
    "while not node.is_end():\n",
    "    next_node = node.variations[0]\n",
    "    node = next_node\n",
    "    print(count)\n",
    "    count = count+1\n",
    "    print(node.board())"
   ]
  },
  {
   "cell_type": "code",
   "execution_count": 7,
   "metadata": {},
   "outputs": [
    {
     "data": {
      "text/plain": [
       "'2r2rk1/pb2pp1p/1pn3p1/1N6/2P5/1Pq2B2/P4PPP/3R1RK1 w - - 0 20'"
      ]
     },
     "execution_count": 7,
     "metadata": {},
     "output_type": "execute_result"
    }
   ],
   "source": [
    "node.board().fen()"
   ]
  },
  {
   "cell_type": "code",
   "execution_count": 8,
   "metadata": {
    "collapsed": true
   },
   "outputs": [
    {
     "data": {
      "text/plain": [
       "['__class__',\n",
       " '__delattr__',\n",
       " '__dict__',\n",
       " '__dir__',\n",
       " '__doc__',\n",
       " '__eq__',\n",
       " '__format__',\n",
       " '__ge__',\n",
       " '__getattribute__',\n",
       " '__gt__',\n",
       " '__hash__',\n",
       " '__init__',\n",
       " '__init_subclass__',\n",
       " '__le__',\n",
       " '__lt__',\n",
       " '__module__',\n",
       " '__ne__',\n",
       " '__new__',\n",
       " '__reduce__',\n",
       " '__reduce_ex__',\n",
       " '__repr__',\n",
       " '__setattr__',\n",
       " '__sizeof__',\n",
       " '__str__',\n",
       " '__subclasshook__',\n",
       " '__weakref__',\n",
       " 'accept',\n",
       " 'accept_subgame',\n",
       " 'add_line',\n",
       " 'add_main_variation',\n",
       " 'add_variation',\n",
       " 'board',\n",
       " 'board_cached',\n",
       " 'comment',\n",
       " 'demote',\n",
       " 'end',\n",
       " 'errors',\n",
       " 'from_board',\n",
       " 'has_variation',\n",
       " 'headers',\n",
       " 'is_end',\n",
       " 'is_main_line',\n",
       " 'is_main_variation',\n",
       " 'main_line',\n",
       " 'move',\n",
       " 'nags',\n",
       " 'parent',\n",
       " 'promote',\n",
       " 'promote_to_main',\n",
       " 'remove_variation',\n",
       " 'root',\n",
       " 'san',\n",
       " 'setup',\n",
       " 'starting_comment',\n",
       " 'starts_variation',\n",
       " 'uci',\n",
       " 'variation',\n",
       " 'variations',\n",
       " 'without_tag_roster']"
      ]
     },
     "execution_count": 8,
     "metadata": {},
     "output_type": "execute_result"
    }
   ],
   "source": [
    "dir(game_moves)"
   ]
  },
  {
   "cell_type": "code",
   "execution_count": 9,
   "metadata": {},
   "outputs": [
    {
     "data": {
      "text/plain": [
       "<chess.pgn.Game at 0x17a1f397160>"
      ]
     },
     "execution_count": 9,
     "metadata": {},
     "output_type": "execute_result"
    }
   ],
   "source": [
    "game_moves"
   ]
  },
  {
   "cell_type": "code",
   "execution_count": 10,
   "metadata": {},
   "outputs": [
    {
     "data": {
      "text/plain": [
       "<chess.pgn.GameNode at 0x17a1f3a7198>"
      ]
     },
     "execution_count": 10,
     "metadata": {},
     "output_type": "execute_result"
    }
   ],
   "source": [
    "node"
   ]
  },
  {
   "cell_type": "code",
   "execution_count": 11,
   "metadata": {
    "collapsed": true
   },
   "outputs": [
    {
     "data": {
      "text/plain": [
       "['BaseVisitor',\n",
       " 'FileExporter',\n",
       " 'Game',\n",
       " 'GameModelCreator',\n",
       " 'GameNode',\n",
       " 'Headers',\n",
       " 'LOGGER',\n",
       " 'MOVETEXT_REGEX',\n",
       " 'NAG_ACTIVE_POSITION',\n",
       " 'NAG_BLACK_DECISIVE_ADVANTAGE',\n",
       " 'NAG_BLACK_DECISIVE_COUNTERPLAY',\n",
       " 'NAG_BLACK_MODERATE_ADVANTAGE',\n",
       " 'NAG_BLACK_MODERATE_COUNTERPLAY',\n",
       " 'NAG_BLACK_MODERATE_TIME_PRESSURE',\n",
       " 'NAG_BLACK_SEVERE_TIME_PRESSURE',\n",
       " 'NAG_BLACK_SLIGHT_ADVANTAGE',\n",
       " 'NAG_BLACK_ZUGZWANG',\n",
       " 'NAG_BLUNDER',\n",
       " 'NAG_BRILLIANT_MOVE',\n",
       " 'NAG_DRAWISH_POSITION',\n",
       " 'NAG_DUBIOUS_MOVE',\n",
       " 'NAG_FORCED_MOVE',\n",
       " 'NAG_GOOD_MOVE',\n",
       " 'NAG_MISTAKE',\n",
       " 'NAG_NOVELTY',\n",
       " 'NAG_NULL',\n",
       " 'NAG_QUIET_POSITION',\n",
       " 'NAG_SINGULAR_MOVE',\n",
       " 'NAG_SPECULATIVE_MOVE',\n",
       " 'NAG_UNCLEAR_POSITION',\n",
       " 'NAG_WHITE_DECISIVE_ADVANTAGE',\n",
       " 'NAG_WHITE_DECISIVE_COUNTERPLAY',\n",
       " 'NAG_WHITE_MODERATE_ADVANTAGE',\n",
       " 'NAG_WHITE_MODERATE_COUNTERPLAY',\n",
       " 'NAG_WHITE_MODERATE_TIME_PRESSURE',\n",
       " 'NAG_WHITE_SEVERE_TIME_PRESSURE',\n",
       " 'NAG_WHITE_SLIGHT_ADVANTAGE',\n",
       " 'NAG_WHITE_ZUGZWANG',\n",
       " 'NAG_WORST_MOVE',\n",
       " 'StringExporter',\n",
       " 'TAG_NAME_REGEX',\n",
       " 'TAG_REGEX',\n",
       " 'TAG_ROSTER',\n",
       " '__builtins__',\n",
       " '__cached__',\n",
       " '__doc__',\n",
       " '__file__',\n",
       " '__loader__',\n",
       " '__name__',\n",
       " '__package__',\n",
       " '__spec__',\n",
       " 'chess',\n",
       " 'collections',\n",
       " 'itertools',\n",
       " 'logging',\n",
       " 're',\n",
       " 'read_game',\n",
       " 'scan_headers',\n",
       " 'scan_offsets']"
      ]
     },
     "execution_count": 11,
     "metadata": {},
     "output_type": "execute_result"
    }
   ],
   "source": [
    "dir(chess.pgn)"
   ]
  },
  {
   "cell_type": "code",
   "execution_count": 12,
   "metadata": {},
   "outputs": [
    {
     "data": {
      "text/plain": [
       "<chess.pgn.Game at 0x17a1f397160>"
      ]
     },
     "execution_count": 12,
     "metadata": {},
     "output_type": "execute_result"
    }
   ],
   "source": [
    "game_moves"
   ]
  },
  {
   "cell_type": "code",
   "execution_count": 13,
   "metadata": {
    "collapsed": true
   },
   "outputs": [
    {
     "data": {
      "text/plain": [
       "['_CHUNK_SIZE',\n",
       " '__class__',\n",
       " '__del__',\n",
       " '__delattr__',\n",
       " '__dict__',\n",
       " '__dir__',\n",
       " '__doc__',\n",
       " '__enter__',\n",
       " '__eq__',\n",
       " '__exit__',\n",
       " '__format__',\n",
       " '__ge__',\n",
       " '__getattribute__',\n",
       " '__getstate__',\n",
       " '__gt__',\n",
       " '__hash__',\n",
       " '__init__',\n",
       " '__init_subclass__',\n",
       " '__iter__',\n",
       " '__le__',\n",
       " '__lt__',\n",
       " '__ne__',\n",
       " '__new__',\n",
       " '__next__',\n",
       " '__reduce__',\n",
       " '__reduce_ex__',\n",
       " '__repr__',\n",
       " '__setattr__',\n",
       " '__sizeof__',\n",
       " '__str__',\n",
       " '__subclasshook__',\n",
       " '_checkClosed',\n",
       " '_checkReadable',\n",
       " '_checkSeekable',\n",
       " '_checkWritable',\n",
       " '_finalizing',\n",
       " 'buffer',\n",
       " 'close',\n",
       " 'closed',\n",
       " 'detach',\n",
       " 'encoding',\n",
       " 'errors',\n",
       " 'fileno',\n",
       " 'flush',\n",
       " 'isatty',\n",
       " 'line_buffering',\n",
       " 'mode',\n",
       " 'name',\n",
       " 'newlines',\n",
       " 'read',\n",
       " 'readable',\n",
       " 'readline',\n",
       " 'readlines',\n",
       " 'seek',\n",
       " 'seekable',\n",
       " 'tell',\n",
       " 'truncate',\n",
       " 'writable',\n",
       " 'write',\n",
       " 'writelines']"
      ]
     },
     "execution_count": 13,
     "metadata": {},
     "output_type": "execute_result"
    }
   ],
   "source": [
    "dir(move_data)"
   ]
  },
  {
   "cell_type": "code",
   "execution_count": 14,
   "metadata": {},
   "outputs": [
    {
     "data": {
      "text/plain": [
       "2"
      ]
     },
     "execution_count": 14,
     "metadata": {},
     "output_type": "execute_result"
    }
   ],
   "source": [
    "move_data.seek(2)"
   ]
  },
  {
   "cell_type": "code",
   "execution_count": 15,
   "metadata": {},
   "outputs": [
    {
     "data": {
      "text/plain": [
       "'vent \"1\"]\\n'"
      ]
     },
     "execution_count": 15,
     "metadata": {},
     "output_type": "execute_result"
    }
   ],
   "source": [
    "next(move_data)"
   ]
  },
  {
   "cell_type": "code",
   "execution_count": 28,
   "metadata": {
    "collapsed": true
   },
   "outputs": [],
   "source": [
    "next_game = chess.pgn.read_game(move_data);"
   ]
  },
  {
   "cell_type": "code",
   "execution_count": 30,
   "metadata": {},
   "outputs": [
    {
     "data": {
      "text/plain": [
       "'3'"
      ]
     },
     "execution_count": 30,
     "metadata": {},
     "output_type": "execute_result"
    }
   ],
   "source": [
    "next_game.headers[\"Event\"]"
   ]
  },
  {
   "cell_type": "code",
   "execution_count": 24,
   "metadata": {},
   "outputs": [
    {
     "data": {
      "text/plain": [
       "'2411'"
      ]
     },
     "execution_count": 24,
     "metadata": {},
     "output_type": "execute_result"
    }
   ],
   "source": [
    "game_moves.headers[\"BlackElo\"]"
   ]
  },
  {
   "cell_type": "code",
   "execution_count": null,
   "metadata": {
    "collapsed": true
   },
   "outputs": [],
   "source": []
  }
 ],
 "metadata": {
  "kernelspec": {
   "display_name": "Python 3",
   "language": "python",
   "name": "python3"
  },
  "language_info": {
   "codemirror_mode": {
    "name": "ipython",
    "version": 3
   },
   "file_extension": ".py",
   "mimetype": "text/x-python",
   "name": "python",
   "nbconvert_exporter": "python",
   "pygments_lexer": "ipython3",
   "version": "3.6.3"
  }
 },
 "nbformat": 4,
 "nbformat_minor": 2
}
