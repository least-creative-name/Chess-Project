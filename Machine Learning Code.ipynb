{
 "cells": [
  {
   "cell_type": "code",
   "execution_count": 1,
   "metadata": {
    "collapsed": true
   },
   "outputs": [],
   "source": [
    "import matplotlib.pyplot as plt\n",
    "import tensorflow as tf\n",
    "import numpy as np\n",
    "import random\n",
    "import pandas as pd\n",
    "from sklearn.utils import shuffle\n",
    "\n",
    "feature_size = 51\n",
    "learning_curve = 0.0001\n",
    "training_epochs = 10\n",
    "data_file = pd.read_csv(\"C:\\\\Users\\\\Shruti Patel\\\\Documents\\\\Jupyter Projects\\\\train_data.csv\")\n",
    "features = data_file[data_file.columns[0:51]].values\n",
    "desired_out = data_file[data_file.columns[51:52]]"
   ]
  },
  {
   "cell_type": "code",
   "execution_count": 2,
   "metadata": {},
   "outputs": [],
   "source": [
    "x = tf.placeholder(tf.float32, [features.shape[0],feature_size])\n",
    "stockfish_y = tf.placeholder(tf.float32, [features.shape[0],1])\n",
    "weights = tf.Variable(tf.zeros([feature_size, 1]))\n",
    "bias = tf.Variable(tf.zeros([features.shape[0],1]))"
   ]
  },
  {
   "cell_type": "code",
   "execution_count": 3,
   "metadata": {
    "collapsed": true
   },
   "outputs": [],
   "source": [
    "#print(x)\n",
    "#print(stockfish_y)\n",
    "#print(weights)\n",
    "#print(bias)"
   ]
  },
  {
   "cell_type": "code",
   "execution_count": 4,
   "metadata": {
    "collapsed": true
   },
   "outputs": [],
   "source": [
    "temp_model = tf.matmul(x, weights)+bias"
   ]
  },
  {
   "cell_type": "code",
   "execution_count": 5,
   "metadata": {
    "collapsed": true
   },
   "outputs": [],
   "source": [
    "linear_cost = tf.square(stockfish_y - temp_model)\n",
    "average_error = tf.reduce_mean(linear_cost)\n",
    "optimizer = tf.train.GradientDescentOptimizer(learning_curve).minimize(average_error)\n",
    "#cost_history = np.empty(shape=[1],dtype=float)"
   ]
  },
  {
   "cell_type": "code",
   "execution_count": 6,
   "metadata": {
    "collapsed": true
   },
   "outputs": [],
   "source": [
    "session = tf.Session()\n",
    "session.run(tf.global_variables_initializer())\n",
    "file_writer = tf.summary.FileWriter(\"C:\\\\Users\\\\Shruti Patel\\\\Documents\\\\Jupyter Projects\\\\graph\\\\HereIsGraph\", session.graph)"
   ]
  },
  {
   "cell_type": "code",
   "execution_count": 7,
   "metadata": {
    "collapsed": true
   },
   "outputs": [],
   "source": [
    "temp_out = []"
   ]
  },
  {
   "cell_type": "code",
   "execution_count": 8,
   "metadata": {
    "collapsed": true
   },
   "outputs": [],
   "source": [
    "def repeat_optimize(iterations_size):\n",
    "    for i in range(iterations_size):\n",
    "        session.run(optimizer, {x:features, stockfish_y:desired_out})\n",
    "        #temp_cost = session.run(average_error, feed_dict={x:features, stockfish_y:desired_out})\n",
    "        #cost_history = np.append(cost_history,temp_cost)\n",
    "        #print(\"iteration \",i,\" the average cost is \",cost_history[i])\n",
    "        #print(session.run(average_error, {x:features, stockfish_y:desired_out}))\n",
    "    #print(temp_error)\n",
    "    print(session.run(average_error, {x:features, stockfish_y:desired_out}))"
   ]
  },
  {
   "cell_type": "code",
   "execution_count": 10,
   "metadata": {},
   "outputs": [
    {
     "name": "stdout",
     "output_type": "stream",
     "text": [
      "[[ 324.]\n",
      " [ 289.]\n",
      " [ 144.]\n",
      " ..., \n",
      " [ 100.]\n",
      " [ 625.]\n",
      " [  81.]]\n",
      "993065.0\n"
     ]
    }
   ],
   "source": [
    "print(session.run(linear_cost, {x:features, stockfish_y:desired_out}))\n",
    "print(session.run(average_error, {x:features, stockfish_y:desired_out}))"
   ]
  },
  {
   "cell_type": "code",
   "execution_count": 11,
   "metadata": {},
   "outputs": [
    {
     "name": "stdout",
     "output_type": "stream",
     "text": [
      "956559.0\n"
     ]
    }
   ],
   "source": [
    "repeat_optimize(100)"
   ]
  },
  {
   "cell_type": "code",
   "execution_count": 12,
   "metadata": {},
   "outputs": [
    {
     "name": "stdout",
     "output_type": "stream",
     "text": [
      "[[ 8872.45410156]\n",
      " [  603.13867188]\n",
      " [  807.55169678]\n",
      " ..., \n",
      " [ 5008.06640625]\n",
      " [ 2478.27270508]\n",
      " [  293.39328003]]\n"
     ]
    }
   ],
   "source": [
    "print(session.run(linear_cost, {x:features, stockfish_y:desired_out}))"
   ]
  },
  {
   "cell_type": "code",
   "execution_count": 13,
   "metadata": {
    "collapsed": true
   },
   "outputs": [],
   "source": [
    "session.close()"
   ]
  },
  {
   "cell_type": "code",
   "execution_count": null,
   "metadata": {
    "collapsed": true
   },
   "outputs": [],
   "source": []
  }
 ],
 "metadata": {
  "kernelspec": {
   "display_name": "Python 3",
   "language": "python",
   "name": "python3"
  },
  "language_info": {
   "codemirror_mode": {
    "name": "ipython",
    "version": 3
   },
   "file_extension": ".py",
   "mimetype": "text/x-python",
   "name": "python",
   "nbconvert_exporter": "python",
   "pygments_lexer": "ipython3",
   "version": "3.6.3"
  }
 },
 "nbformat": 4,
 "nbformat_minor": 2
}
